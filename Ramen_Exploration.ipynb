{
 "cells": [
  {
   "cell_type": "markdown",
   "metadata": {},
   "source": [
    "# **In this notebook I intend to explore a dataset looking at different types of Ramen. I intend to do some basic exploratory data analysis and see what I can learn.**"
   ]
  },
  {
   "cell_type": "code",
   "execution_count": 1,
   "metadata": {},
   "outputs": [],
   "source": [
    "import pandas as pd\n",
    "import numpy as np\n",
    "import matplotlib.pyplot as plt\n",
    "%matplotlib inline\n",
    "import seaborn as sns\n",
    "plt.rcParams['font.size'] = '15'"
   ]
  },
  {
   "cell_type": "code",
   "execution_count": 2,
   "metadata": {},
   "outputs": [],
   "source": [
    "df=pd.read_csv('ramen-ratings.csv')"
   ]
  },
  {
   "cell_type": "code",
   "execution_count": 3,
   "metadata": {},
   "outputs": [
    {
     "name": "stdout",
     "output_type": "stream",
     "text": [
      "<class 'pandas.core.frame.DataFrame'>\n",
      "RangeIndex: 2580 entries, 0 to 2579\n",
      "Data columns (total 7 columns):\n",
      " #   Column    Non-Null Count  Dtype \n",
      "---  ------    --------------  ----- \n",
      " 0   Review #  2580 non-null   int64 \n",
      " 1   Brand     2580 non-null   object\n",
      " 2   Variety   2580 non-null   object\n",
      " 3   Style     2578 non-null   object\n",
      " 4   Country   2580 non-null   object\n",
      " 5   Stars     2580 non-null   object\n",
      " 6   Top Ten   41 non-null     object\n",
      "dtypes: int64(1), object(6)\n",
      "memory usage: 141.2+ KB\n"
     ]
    }
   ],
   "source": [
    "df.info()"
   ]
  },
  {
   "cell_type": "markdown",
   "metadata": {},
   "source": [
    "Concerned that some of the catergories I would expect to be numeric are objects, espcially the stars"
   ]
  },
  {
   "cell_type": "code",
   "execution_count": 4,
   "metadata": {},
   "outputs": [
    {
     "data": {
      "text/plain": [
       "array(['3.75', '1', '2.25', '2.75', '4.75', '4', '0.25', '2.5', '5',\n",
       "       '4.25', '4.5', '3.5', 'Unrated', '1.5', '3.25', '2', '0', '3',\n",
       "       '0.5', '4.00', '5.0', '3.50', '3.8', '4.3', '2.3', '5.00', '3.3',\n",
       "       '4.0', '3.00', '1.75', '3.0', '4.50', '0.75', '1.25', '1.1', '2.1',\n",
       "       '0.9', '3.1', '4.125', '3.125', '2.125', '2.9', '0.1', '2.8',\n",
       "       '3.7', '3.4', '3.6', '2.85', '3.2', '3.65', '1.8'], dtype=object)"
      ]
     },
     "execution_count": 4,
     "metadata": {},
     "output_type": "execute_result"
    }
   ],
   "source": [
    "df.Stars.unique()"
   ]
  },
  {
   "cell_type": "code",
   "execution_count": 5,
   "metadata": {},
   "outputs": [],
   "source": [
    "df.Stars.replace('Unrated',np.nan,inplace=True)"
   ]
  },
  {
   "cell_type": "code",
   "execution_count": 6,
   "metadata": {},
   "outputs": [
    {
     "name": "stdout",
     "output_type": "stream",
     "text": [
      "<class 'pandas.core.frame.DataFrame'>\n",
      "RangeIndex: 2580 entries, 0 to 2579\n",
      "Data columns (total 7 columns):\n",
      " #   Column    Non-Null Count  Dtype  \n",
      "---  ------    --------------  -----  \n",
      " 0   Review #  2580 non-null   int64  \n",
      " 1   Brand     2580 non-null   object \n",
      " 2   Variety   2580 non-null   object \n",
      " 3   Style     2578 non-null   object \n",
      " 4   Country   2580 non-null   object \n",
      " 5   Stars     2577 non-null   float64\n",
      " 6   Top Ten   41 non-null     object \n",
      "dtypes: float64(1), int64(1), object(5)\n",
      "memory usage: 141.2+ KB\n"
     ]
    }
   ],
   "source": [
    "df['Stars'] = pd.to_numeric(df.Stars)\n",
    "df.info()"
   ]
  },
  {
   "cell_type": "markdown",
   "metadata": {},
   "source": [
    "Thats better, now the stars are listed as numeric, lets recheck the dataframe"
   ]
  },
  {
   "cell_type": "code",
   "execution_count": 7,
   "metadata": {},
   "outputs": [
    {
     "data": {
      "text/html": [
       "<div>\n",
       "<style scoped>\n",
       "    .dataframe tbody tr th:only-of-type {\n",
       "        vertical-align: middle;\n",
       "    }\n",
       "\n",
       "    .dataframe tbody tr th {\n",
       "        vertical-align: top;\n",
       "    }\n",
       "\n",
       "    .dataframe thead th {\n",
       "        text-align: right;\n",
       "    }\n",
       "</style>\n",
       "<table border=\"1\" class=\"dataframe\">\n",
       "  <thead>\n",
       "    <tr style=\"text-align: right;\">\n",
       "      <th></th>\n",
       "      <th>Review #</th>\n",
       "      <th>Brand</th>\n",
       "      <th>Variety</th>\n",
       "      <th>Style</th>\n",
       "      <th>Country</th>\n",
       "      <th>Stars</th>\n",
       "      <th>Top Ten</th>\n",
       "    </tr>\n",
       "  </thead>\n",
       "  <tbody>\n",
       "    <tr>\n",
       "      <th>0</th>\n",
       "      <td>2580</td>\n",
       "      <td>New Touch</td>\n",
       "      <td>T's Restaurant Tantanmen</td>\n",
       "      <td>Cup</td>\n",
       "      <td>Japan</td>\n",
       "      <td>3.75</td>\n",
       "      <td>NaN</td>\n",
       "    </tr>\n",
       "    <tr>\n",
       "      <th>1</th>\n",
       "      <td>2579</td>\n",
       "      <td>Just Way</td>\n",
       "      <td>Noodles Spicy Hot Sesame Spicy Hot Sesame Guan...</td>\n",
       "      <td>Pack</td>\n",
       "      <td>Taiwan</td>\n",
       "      <td>1.00</td>\n",
       "      <td>NaN</td>\n",
       "    </tr>\n",
       "    <tr>\n",
       "      <th>2</th>\n",
       "      <td>2578</td>\n",
       "      <td>Nissin</td>\n",
       "      <td>Cup Noodles Chicken Vegetable</td>\n",
       "      <td>Cup</td>\n",
       "      <td>USA</td>\n",
       "      <td>2.25</td>\n",
       "      <td>NaN</td>\n",
       "    </tr>\n",
       "    <tr>\n",
       "      <th>3</th>\n",
       "      <td>2577</td>\n",
       "      <td>Wei Lih</td>\n",
       "      <td>GGE Ramen Snack Tomato Flavor</td>\n",
       "      <td>Pack</td>\n",
       "      <td>Taiwan</td>\n",
       "      <td>2.75</td>\n",
       "      <td>NaN</td>\n",
       "    </tr>\n",
       "    <tr>\n",
       "      <th>4</th>\n",
       "      <td>2576</td>\n",
       "      <td>Ching's Secret</td>\n",
       "      <td>Singapore Curry</td>\n",
       "      <td>Pack</td>\n",
       "      <td>India</td>\n",
       "      <td>3.75</td>\n",
       "      <td>NaN</td>\n",
       "    </tr>\n",
       "  </tbody>\n",
       "</table>\n",
       "</div>"
      ],
      "text/plain": [
       "   Review #           Brand  \\\n",
       "0      2580       New Touch   \n",
       "1      2579        Just Way   \n",
       "2      2578          Nissin   \n",
       "3      2577         Wei Lih   \n",
       "4      2576  Ching's Secret   \n",
       "\n",
       "                                             Variety Style Country  Stars  \\\n",
       "0                          T's Restaurant Tantanmen    Cup   Japan   3.75   \n",
       "1  Noodles Spicy Hot Sesame Spicy Hot Sesame Guan...  Pack  Taiwan   1.00   \n",
       "2                      Cup Noodles Chicken Vegetable   Cup     USA   2.25   \n",
       "3                      GGE Ramen Snack Tomato Flavor  Pack  Taiwan   2.75   \n",
       "4                                    Singapore Curry  Pack   India   3.75   \n",
       "\n",
       "  Top Ten  \n",
       "0     NaN  \n",
       "1     NaN  \n",
       "2     NaN  \n",
       "3     NaN  \n",
       "4     NaN  "
      ]
     },
     "execution_count": 7,
     "metadata": {},
     "output_type": "execute_result"
    }
   ],
   "source": [
    "df.head(5)"
   ]
  },
  {
   "cell_type": "markdown",
   "metadata": {},
   "source": [
    "**Initial thoughts**\n",
    "\n",
    "The review number column appears to just be an index so I will drop that. It seems like we could have a lot of infomation in the Variety column so it would be good to do some feature extraction on that. First, however, I want to do some basic exploratory data analysis to better understand the raw data"
   ]
  },
  {
   "cell_type": "code",
   "execution_count": 8,
   "metadata": {},
   "outputs": [],
   "source": [
    "df.drop('Review #',axis=1,inplace=True)"
   ]
  },
  {
   "cell_type": "code",
   "execution_count": 9,
   "metadata": {},
   "outputs": [
    {
     "name": "stdout",
     "output_type": "stream",
     "text": [
      "The number of unique Brands is 355\n",
      "The number of unique countrys is 38\n"
     ]
    }
   ],
   "source": [
    "print('The number of unique Brands is '+ str(len(df.Brand.unique())))\n",
    "print('The number of unique countrys is '+ str(len(df.Country.unique())))"
   ]
  },
  {
   "cell_type": "code",
   "execution_count": 10,
   "metadata": {},
   "outputs": [],
   "source": [
    "df_sorted = df.groupby('Country').count().sort_values('Brand',ascending=False).Brand"
   ]
  },
  {
   "cell_type": "code",
   "execution_count": 11,
   "metadata": {},
   "outputs": [],
   "source": [
    "df_sorted = df_sorted.reset_index().copy()"
   ]
  },
  {
   "cell_type": "code",
   "execution_count": 12,
   "metadata": {},
   "outputs": [
    {
     "data": {
      "text/plain": [
       "<BarContainer object of 38 artists>"
      ]
     },
     "execution_count": 12,
     "metadata": {},
     "output_type": "execute_result"
    },
    {
     "data": {
      "image/png": "[encoded data removed]",
      "text/plain": [
       "<Figure size 720x360 with 1 Axes>"
      ]
     },
     "metadata": {
      "needs_background": "light"
     },
     "output_type": "display_data"
    }
   ],
   "source": [
    "plt.figure(figsize=(10,5))\n",
    "plt.xticks(rotation=90)\n",
    "plt.ylabel('Count')\n",
    "plt.bar(df_sorted.Country,df_sorted.Brand)"
   ]
  },
  {
   "cell_type": "markdown",
   "metadata": {},
   "source": [
    "**Now I want to see the average ramen rating per country, and also add infomation on how many ramens are produced per country**"
   ]
  },
  {
   "cell_type": "code",
   "execution_count": 13,
   "metadata": {},
   "outputs": [
    {
     "data": {
      "text/plain": [
       "<matplotlib.axes._subplots.AxesSubplot at 0x7f8827dffa20>"
      ]
     },
     "execution_count": 13,
     "metadata": {},
     "output_type": "execute_result"
    },
    {
     "data": {
      "image/png": "[encoded data removed]",
      "text/plain": [
       "<Figure size 1080x360 with 1 Axes>"
      ]
     },
     "metadata": {
      "needs_background": "light"
     },
     "output_type": "display_data"
    }
   ],
   "source": [
    "df_ave_stars= df[['Country','Stars']].groupby('Country').mean().sort_values('Stars',ascending=False).reset_index()\n",
    "df_joined = df_ave_stars.set_index('Country').join(df_sorted.set_index('Country')).reset_index()\n",
    "plt.figure(figsize=(15,5))\n",
    "plt.xticks(rotation=90)\n",
    "#plt.hist(df_ave_stars.Stars,bins = 15)\n",
    "plt.ylabel('Average Ramen Rating')\n",
    "sizes = dict(zip(df_joined.Country,df_joined.Brand.values*10))\n",
    "sns.scatterplot('Country','Stars', data=df_joined,\n",
    "                size='Country',\n",
    "                sizes=sizes,\n",
    "                legend=False,\n",
    "                alpha=0.5,\n",
    "                edgecolor='black',\n",
    "                palette = 'Set1'\n",
    "                )\n"
   ]
  },
  {
   "cell_type": "code",
   "execution_count": 14,
   "metadata": {},
   "outputs": [
    {
     "name": "stderr",
     "output_type": "stream",
     "text": [
      "/Users/louismclaxton/anaconda3/lib/python3.6/site-packages/numpy/lib/histograms.py:839: RuntimeWarning: invalid value encountered in greater_equal\n",
      "  keep = (tmp_a >= first_edge)\n",
      "/Users/louismclaxton/anaconda3/lib/python3.6/site-packages/numpy/lib/histograms.py:840: RuntimeWarning: invalid value encountered in less_equal\n",
      "  keep &= (tmp_a <= last_edge)\n"
     ]
    },
    {
     "data": {
      "text/plain": [
       "Text(0, 0.5, 'Number')"
      ]
     },
     "execution_count": 14,
     "metadata": {},
     "output_type": "execute_result"
    },
    {
     "data": {
      "image/png": "[encoded data removed]",
      "text/plain": [
       "<Figure size 1080x360 with 1 Axes>"
      ]
     },
     "metadata": {
      "needs_background": "light"
     },
     "output_type": "display_data"
    }
   ],
   "source": [
    "plt.figure(figsize=(15,5))\n",
    "plt.grid()\n",
    "plt.hist(df.Stars,bins=20,edgecolor='k',align='mid')\n",
    "plt.xlabel('Stars')\n",
    "plt.ylabel('Number')"
   ]
  },
  {
   "cell_type": "code",
   "execution_count": 15,
   "metadata": {},
   "outputs": [
    {
     "data": {
      "text/plain": [
       "<matplotlib.axes._subplots.AxesSubplot at 0x7f882810b400>"
      ]
     },
     "execution_count": 15,
     "metadata": {},
     "output_type": "execute_result"
    },
    {
     "data": {
      "image/png": "[encoded data removed]",
      "text/plain": [
       "<Figure size 720x360 with 1 Axes>"
      ]
     },
     "metadata": {
      "needs_background": "light"
     },
     "output_type": "display_data"
    }
   ],
   "source": [
    "df_ave_stars_style = df[['Style','Stars']].groupby('Style').mean().sort_values('Stars',ascending=False).reset_index()\n",
    "plt.figure(figsize=(10,5))\n",
    "#plt.hist(df_ave_stars.Stars,bins = 15)\n",
    "plt.ylabel('Average Ramen Rating')\n",
    "plt.grid()\n",
    "sns.boxplot(df.Style,df.Stars,palette = 'Set2')\n"
   ]
  },
  {
   "cell_type": "markdown",
   "metadata": {},
   "source": [
    "# Now to do some feature extraction from the variety column. It would be good to try and get an idea of flavour"
   ]
  },
  {
   "cell_type": "markdown",
   "metadata": {},
   "source": [
    "**First I need to remove the punctuation**"
   ]
  },
  {
   "cell_type": "code",
   "execution_count": 16,
   "metadata": {},
   "outputs": [],
   "source": [
    "import string \n",
    "def remove_punctuation(text):\n",
    "    no_punct = \"\".join([c for c in text if c not in string.punctuation])\n",
    "    return no_punct"
   ]
  },
  {
   "cell_type": "code",
   "execution_count": 17,
   "metadata": {},
   "outputs": [],
   "source": [
    "df.loc[:,'Variety'] = df.loc[:,'Variety'].apply(lambda x: remove_punctuation(x.lower()))"
   ]
  },
  {
   "cell_type": "markdown",
   "metadata": {},
   "source": [
    "**Now to remove stopwords such as 'the', 'and' etc...**"
   ]
  },
  {
   "cell_type": "code",
   "execution_count": 18,
   "metadata": {},
   "outputs": [],
   "source": [
    "from nltk.tokenize import RegexpTokenizer"
   ]
  },
  {
   "cell_type": "code",
   "execution_count": 19,
   "metadata": {},
   "outputs": [],
   "source": [
    "tokenizer = RegexpTokenizer(r'\\w+')\n",
    "df.loc[:,'Variety'] = df.loc[:,'Variety'].apply(lambda x: tokenizer.tokenize(x.lower()))"
   ]
  },
  {
   "cell_type": "code",
   "execution_count": 20,
   "metadata": {},
   "outputs": [
    {
     "data": {
      "text/plain": [
       "0                             [ts, restaurant, tantanmen]\n",
       "1       [noodles, spicy, hot, sesame, spicy, hot, sesa...\n",
       "2                      [cup, noodles, chicken, vegetable]\n",
       "3                     [gge, ramen, snack, tomato, flavor]\n",
       "4                                      [singapore, curry]\n",
       "                              ...                        \n",
       "2575    [hu, tiu, nam, vang, phnom, penh, style, asian...\n",
       "2576                  [oriental, style, instant, noodles]\n",
       "2577                                   [tom, yum, shrimp]\n",
       "2578                            [tom, yum, chili, flavor]\n",
       "2579                                        [miso, ramen]\n",
       "Name: Variety, Length: 2580, dtype: object"
      ]
     },
     "execution_count": 20,
     "metadata": {},
     "output_type": "execute_result"
    }
   ],
   "source": [
    "df.Variety"
   ]
  },
  {
   "cell_type": "code",
   "execution_count": 21,
   "metadata": {},
   "outputs": [],
   "source": [
    "from nltk.corpus import stopwords\n",
    "specified_extra = ['noodles','noodle','flavour','artificial','ramen','instant','flavor','sauce','cup','bowl','rice']\n",
    "def remove_stopwords(text):\n",
    "    english_words = [w for w in text if w not in stopwords.words('english')]\n",
    "    additional_words = [w for w in english_words if w not in specified_extra]\n",
    "    return additional_words"
   ]
  },
  {
   "cell_type": "code",
   "execution_count": 22,
   "metadata": {},
   "outputs": [],
   "source": [
    "df.loc[:,'Variety'] = df.loc[:,'Variety'].apply(lambda x: remove_stopwords(x))"
   ]
  },
  {
   "cell_type": "markdown",
   "metadata": {},
   "source": [
    "**Now to recombine for analysis. I also take the opportunity to remove any repeats in the lists, before recombining**"
   ]
  },
  {
   "cell_type": "code",
   "execution_count": 23,
   "metadata": {},
   "outputs": [],
   "source": [
    "df.loc[:,'Variety'] = df.loc[:,'Variety'].apply(lambda x: list(set(x)))\n",
    "df.loc[:,'Variety'] = df.loc[:,'Variety'].apply(lambda x:\" \".join(x))"
   ]
  },
  {
   "cell_type": "code",
   "execution_count": 24,
   "metadata": {},
   "outputs": [],
   "source": [
    "# Begin vectorisation\n",
    "from sklearn.feature_extraction.text import CountVectorizer"
   ]
  },
  {
   "cell_type": "markdown",
   "metadata": {},
   "source": [
    "Specifiy the number of words to list"
   ]
  },
  {
   "cell_type": "code",
   "execution_count": 25,
   "metadata": {},
   "outputs": [],
   "source": [
    "# Might take awhile...\n",
    "max_feature_length = 10\n",
    "top_words = []\n"
   ]
  },
  {
   "cell_type": "markdown",
   "metadata": {},
   "source": [
    "Now to generate the sparce matrix with all the top words contained"
   ]
  },
  {
   "cell_type": "code",
   "execution_count": 26,
   "metadata": {},
   "outputs": [],
   "source": [
    "\n",
    "bow_transformer = CountVectorizer(max_features=max_feature_length,ngram_range=(1,1)).fit(df.loc[:,'Variety'])\n",
    "bow = bow_transformer.transform([' '.join(df.loc[:,'Variety'].values)])#This joins all the words in all the rows \n"
   ]
  },
  {
   "cell_type": "markdown",
   "metadata": {},
   "source": [
    "Now to extract the top words and counts "
   ]
  },
  {
   "cell_type": "code",
   "execution_count": 27,
   "metadata": {},
   "outputs": [],
   "source": [
    "\n",
    "word_list = bow_transformer.get_feature_names()\n",
    "count_list = bow.toarray().sum(axis=0) \n",
    "top_counts = pd.DataFrame(zip(word_list,count_list),columns=['term','count',])\n",
    "top_counts.sort_values('count',axis=0,inplace=True, ascending=False)\n",
    "\n",
    "\n"
   ]
  },
  {
   "cell_type": "code",
   "execution_count": 28,
   "metadata": {},
   "outputs": [
    {
     "data": {
      "text/html": [
       "<div>\n",
       "<style scoped>\n",
       "    .dataframe tbody tr th:only-of-type {\n",
       "        vertical-align: middle;\n",
       "    }\n",
       "\n",
       "    .dataframe tbody tr th {\n",
       "        vertical-align: top;\n",
       "    }\n",
       "\n",
       "    .dataframe thead th {\n",
       "        text-align: right;\n",
       "    }\n",
       "</style>\n",
       "<table border=\"1\" class=\"dataframe\">\n",
       "  <thead>\n",
       "    <tr style=\"text-align: right;\">\n",
       "      <th></th>\n",
       "      <th>term</th>\n",
       "      <th>count</th>\n",
       "    </tr>\n",
       "  </thead>\n",
       "  <tbody>\n",
       "    <tr>\n",
       "      <th>1</th>\n",
       "      <td>chicken</td>\n",
       "      <td>328</td>\n",
       "    </tr>\n",
       "    <tr>\n",
       "      <th>8</th>\n",
       "      <td>spicy</td>\n",
       "      <td>269</td>\n",
       "    </tr>\n",
       "    <tr>\n",
       "      <th>0</th>\n",
       "      <td>beef</td>\n",
       "      <td>232</td>\n",
       "    </tr>\n",
       "    <tr>\n",
       "      <th>7</th>\n",
       "      <td>soup</td>\n",
       "      <td>196</td>\n",
       "    </tr>\n",
       "    <tr>\n",
       "      <th>9</th>\n",
       "      <td>tom</td>\n",
       "      <td>128</td>\n",
       "    </tr>\n",
       "    <tr>\n",
       "      <th>6</th>\n",
       "      <td>shrimp</td>\n",
       "      <td>127</td>\n",
       "    </tr>\n",
       "    <tr>\n",
       "      <th>2</th>\n",
       "      <td>curry</td>\n",
       "      <td>125</td>\n",
       "    </tr>\n",
       "    <tr>\n",
       "      <th>3</th>\n",
       "      <td>hot</td>\n",
       "      <td>118</td>\n",
       "    </tr>\n",
       "    <tr>\n",
       "      <th>4</th>\n",
       "      <td>mi</td>\n",
       "      <td>117</td>\n",
       "    </tr>\n",
       "    <tr>\n",
       "      <th>5</th>\n",
       "      <td>seafood</td>\n",
       "      <td>109</td>\n",
       "    </tr>\n",
       "  </tbody>\n",
       "</table>\n",
       "</div>"
      ],
      "text/plain": [
       "      term  count\n",
       "1  chicken    328\n",
       "8    spicy    269\n",
       "0     beef    232\n",
       "7     soup    196\n",
       "9      tom    128\n",
       "6   shrimp    127\n",
       "2    curry    125\n",
       "3      hot    118\n",
       "4       mi    117\n",
       "5  seafood    109"
      ]
     },
     "execution_count": 28,
     "metadata": {},
     "output_type": "execute_result"
    }
   ],
   "source": [
    "top_counts"
   ]
  },
  {
   "cell_type": "markdown",
   "metadata": {},
   "source": [
    "Create a new column with the flavours identified"
   ]
  },
  {
   "cell_type": "code",
   "execution_count": 29,
   "metadata": {},
   "outputs": [],
   "source": [
    "df['flavour'] = df.Variety.apply(lambda y: np.array([x for x in y.split() if x in top_counts.term.values]))\n",
    "df['flavour'] = df['flavour'].apply(lambda x :\" \".join(x))"
   ]
  },
  {
   "cell_type": "markdown",
   "metadata": {},
   "source": [
    "## Now I have the flavours identified, I want to see how it varies with the rating"
   ]
  },
  {
   "cell_type": "markdown",
   "metadata": {},
   "source": [
    "First I create a new dataframe, with the flavours spilt and add the rating column "
   ]
  },
  {
   "cell_type": "code",
   "execution_count": 30,
   "metadata": {},
   "outputs": [],
   "source": [
    "flavour = df['flavour'].str.split(' ', 3,expand=True)"
   ]
  },
  {
   "cell_type": "code",
   "execution_count": 31,
   "metadata": {},
   "outputs": [],
   "source": [
    "flavour['stars'] = df['Stars']\n",
    "flavour.replace('',np.nan,inplace=True)\n",
    "flavour.replace('tom','tom yum',inplace=True) # Change tom to tom yum "
   ]
  },
  {
   "cell_type": "code",
   "execution_count": 32,
   "metadata": {},
   "outputs": [],
   "source": [
    "flavour['flavour'] = flavour.iloc[:,0]"
   ]
  },
  {
   "cell_type": "code",
   "execution_count": 33,
   "metadata": {},
   "outputs": [
    {
     "data": {
      "text/plain": [
       "<matplotlib.axes._subplots.AxesSubplot at 0x7f882908be80>"
      ]
     },
     "execution_count": 33,
     "metadata": {},
     "output_type": "execute_result"
    },
    {
     "data": {
      "image/png": "[encoded data removed]",
      "text/plain": [
       "<Figure size 1080x360 with 1 Axes>"
      ]
     },
     "metadata": {
      "needs_background": "light"
     },
     "output_type": "display_data"
    }
   ],
   "source": [
    "plt.figure(figsize=(15,5))\n",
    "plt.xticks(rotation=90)\n",
    "sns.boxplot('flavour','stars',data=flavour, palette = 'Set2')"
   ]
  },
  {
   "cell_type": "markdown",
   "metadata": {},
   "source": [
    "**It seems that curry noodles are often rated highly. Seafood and shrimp along with chicken seem to be generally worse.** Seeing as some rows also have secondary flavours, this could be a great predictor of ratings, along with country, style and brand."
   ]
  },
  {
   "cell_type": "markdown",
   "metadata": {},
   "source": [
    "## From here I begin to make dummy variables for the flavour and try and predict the rating."
   ]
  },
  {
   "cell_type": "markdown",
   "metadata": {},
   "source": [
    "Now to create dummy variables for the top words found"
   ]
  },
  {
   "cell_type": "markdown",
   "metadata": {},
   "source": [
    "As there are a large number of countries and brands I use the BaseN encoder to reduce the dimentionality. For style I simply use get dummies."
   ]
  },
  {
   "cell_type": "code",
   "execution_count": 34,
   "metadata": {},
   "outputs": [],
   "source": [
    "import category_encoders as ce"
   ]
  },
  {
   "cell_type": "code",
   "execution_count": 35,
   "metadata": {},
   "outputs": [],
   "source": [
    "encoder = ce.BaseNEncoder(cols=['Brand'],return_df=True,base=1)\n",
    "data_encoded_brand = encoder.fit_transform(df.Brand)"
   ]
  },
  {
   "cell_type": "code",
   "execution_count": 36,
   "metadata": {},
   "outputs": [],
   "source": [
    "encoder = ce.BaseNEncoder(cols=['Country'],return_df=True,base=1)\n",
    "data_encoded_Country = encoder.fit_transform(df.Country)"
   ]
  },
  {
   "cell_type": "code",
   "execution_count": 37,
   "metadata": {},
   "outputs": [],
   "source": [
    "data_encoded_styles = pd.get_dummies(data=df.Style,drop_first=True)"
   ]
  },
  {
   "cell_type": "code",
   "execution_count": 38,
   "metadata": {},
   "outputs": [],
   "source": [
    "encoder = ce.BaseNEncoder(cols=['flavour'],return_df=True,base=1)\n",
    "data_encoded_flavour = encoder.fit_transform(flavour.flavour)"
   ]
  },
  {
   "cell_type": "code",
   "execution_count": 39,
   "metadata": {},
   "outputs": [],
   "source": [
    "final_cleaned = data_encoded_flavour.join(data_encoded_brand).join(data_encoded_styles).join(data_encoded_Country)\n",
    "final_cleaned['Stars'] = df.Stars"
   ]
  },
  {
   "cell_type": "markdown",
   "metadata": {},
   "source": [
    "Now to check that all columns are numeric and ready to be used in prediction"
   ]
  },
  {
   "cell_type": "code",
   "execution_count": 40,
   "metadata": {},
   "outputs": [
    {
     "name": "stdout",
     "output_type": "stream",
     "text": [
      "<class 'pandas.core.frame.DataFrame'>\n",
      "RangeIndex: 2580 entries, 0 to 2579\n",
      "Columns: 414 entries, flavour_0 to Stars\n",
      "dtypes: float64(1), int64(407), uint8(6)\n",
      "memory usage: 8.0 MB\n"
     ]
    }
   ],
   "source": [
    "final_cleaned.info()"
   ]
  },
  {
   "cell_type": "markdown",
   "metadata": {},
   "source": [
    "Flavour_0, Brand_0 and Country_0 all appear to have no values"
   ]
  },
  {
   "cell_type": "code",
   "execution_count": 41,
   "metadata": {},
   "outputs": [],
   "source": [
    "final_cleaned.drop(['flavour_0','Brand_0','Country_0'],axis=1,inplace=True)"
   ]
  },
  {
   "cell_type": "code",
   "execution_count": 42,
   "metadata": {},
   "outputs": [
    {
     "data": {
      "text/plain": [
       "<Figure size 1440x1080 with 0 Axes>"
      ]
     },
     "execution_count": 42,
     "metadata": {},
     "output_type": "execute_result"
    },
    {
     "data": {
      "text/plain": [
       "<Figure size 1440x1080 with 0 Axes>"
      ]
     },
     "metadata": {},
     "output_type": "display_data"
    }
   ],
   "source": [
    "plt.figure(figsize=(20,15))\n",
    "#sns.heatmap(final_cleaned.corr(),annot=True,cmap='viridis')"
   ]
  },
  {
   "cell_type": "code",
   "execution_count": 43,
   "metadata": {},
   "outputs": [
    {
     "data": {
      "text/plain": [
       "(-0.2, 0.2)"
      ]
     },
     "execution_count": 43,
     "metadata": {},
     "output_type": "execute_result"
    },
    {
     "data": {
      "image/png": "[encoded data removed]",
      "text/plain": [
       "<Figure size 432x288 with 1 Axes>"
      ]
     },
     "metadata": {
      "needs_background": "light"
     },
     "output_type": "display_data"
    }
   ],
   "source": [
    "plt.hist(final_cleaned.corr().Stars.values,bins=50)\n",
    "plt.xlim([-0.2,0.2])"
   ]
  },
  {
   "cell_type": "markdown",
   "metadata": {},
   "source": [
    "**Overall it actually seems like nothing is very correlated to stars, it therefore seems like machine learning models may struggle to predict the rating of Ramen.** Nonetheless, I apply some to confirm this hypothesis."
   ]
  },
  {
   "cell_type": "markdown",
   "metadata": {},
   "source": [
    "# Now to employ some ML techniques to predict the rating "
   ]
  },
  {
   "cell_type": "code",
   "execution_count": 44,
   "metadata": {},
   "outputs": [],
   "source": [
    "from sklearn.model_selection import train_test_split\n",
    "from sklearn.preprocessing import MinMaxScaler"
   ]
  },
  {
   "cell_type": "code",
   "execution_count": 45,
   "metadata": {},
   "outputs": [],
   "source": [
    "final_cleaned.dropna(inplace=True)\n",
    "x = final_cleaned.iloc[:,0:-1].values\n",
    "y = final_cleaned.Stars.values"
   ]
  },
  {
   "cell_type": "code",
   "execution_count": 46,
   "metadata": {},
   "outputs": [],
   "source": [
    "x_train, x_test, y_train,  y_test = train_test_split(x, y, random_state = 2,test_size=0.2,)\n",
    "scaler = MinMaxScaler()\n",
    "x_train = scaler.fit_transform(x_train)\n",
    "x_test = scaler.transform(x_test)"
   ]
  },
  {
   "cell_type": "code",
   "execution_count": 47,
   "metadata": {},
   "outputs": [],
   "source": [
    "from sklearn.linear_model import LinearRegression\n",
    "model = LinearRegression().fit(x_train, y_train)\n",
    "y_predict = model.predict(x_test)"
   ]
  },
  {
   "cell_type": "code",
   "execution_count": 48,
   "metadata": {},
   "outputs": [
    {
     "data": {
      "text/plain": [
       "(-0.5, 5.5)"
      ]
     },
     "execution_count": 48,
     "metadata": {},
     "output_type": "execute_result"
    },
    {
     "data": {
      "image/png": "[encoded data removed]",
      "text/plain": [
       "<Figure size 720x504 with 1 Axes>"
      ]
     },
     "metadata": {
      "needs_background": "light"
     },
     "output_type": "display_data"
    },
    {
     "data": {
      "image/png": "[encoded data removed]",
      "text/plain": [
       "<Figure size 720x504 with 1 Axes>"
      ]
     },
     "metadata": {
      "needs_background": "light"
     },
     "output_type": "display_data"
    }
   ],
   "source": [
    "plt.figure(figsize=(10,7))\n",
    "plt.scatter(y_test,y_predict)\n",
    "plt.xlim([-0.5,5.5])\n",
    "plt.xlabel('Y Actual')\n",
    "plt.ylabel('Y Predicted')\n",
    "plt.ylim([-0.5,5.5])\n",
    "\n",
    "plt.figure(figsize=(10,7))\n",
    "plt.scatter(y_train,model.predict(x_train))\n",
    "plt.xlim([-0.5,5.5])\n",
    "plt.xlabel('Y Actual')\n",
    "plt.ylabel('Y Predicted')\n",
    "plt.ylim([-0.5,5.5])"
   ]
  },
  {
   "cell_type": "code",
   "execution_count": 49,
   "metadata": {},
   "outputs": [],
   "source": [
    "from sklearn import neighbors\n",
    "from sklearn.metrics import mean_squared_error \n",
    "from math import sqrt"
   ]
  },
  {
   "cell_type": "code",
   "execution_count": 50,
   "metadata": {},
   "outputs": [
    {
     "name": "stdout",
     "output_type": "stream",
     "text": [
      "RMSE value for k=  1 is: 1.1653602181233476\n",
      "RMSE value for k=  2 is: 1.0767599281313627\n",
      "RMSE value for k=  3 is: 1.0230491297898767\n",
      "RMSE value for k=  4 is: 0.9997954308683709\n",
      "RMSE value for k=  5 is: 0.9994744258393893\n",
      "RMSE value for k=  6 is: 0.9889562646711865\n",
      "RMSE value for k=  7 is: 0.9837558234093243\n",
      "RMSE value for k=  8 is: 0.9878042101920843\n",
      "RMSE value for k=  9 is: 0.9841958326367855\n",
      "RMSE value for k=  10 is: 0.9744096677380595\n",
      "RMSE value for k=  11 is: 0.9766359759180308\n",
      "RMSE value for k=  12 is: 0.9729018610648549\n",
      "RMSE value for k=  13 is: 0.9786533907828953\n",
      "RMSE value for k=  14 is: 0.9809147410636055\n",
      "RMSE value for k=  15 is: 0.9751799674892057\n",
      "RMSE value for k=  16 is: 0.9813013051974315\n",
      "RMSE value for k=  17 is: 0.9782765955506459\n",
      "RMSE value for k=  18 is: 0.9717976051488305\n",
      "RMSE value for k=  19 is: 0.9820485884309881\n",
      "RMSE value for k=  20 is: 0.9802478866753018\n"
     ]
    }
   ],
   "source": [
    "rmse_val = [] #to store rmse values for different k\n",
    "for K in range(20):\n",
    "    K += 1\n",
    "    model = neighbors.KNeighborsRegressor(n_neighbors = K)\n",
    "    model.fit(x_train, y_train)  #fit the model\n",
    "    pred = model.predict(x_test) #make prediction on test set\n",
    "    error = sqrt(mean_squared_error(y_test,pred)) #calculate rmse\n",
    "    rmse_val.append(error) #store rmse values\n",
    "    print('RMSE value for k= ' , K , 'is:', error)"
   ]
  },
  {
   "cell_type": "code",
   "execution_count": 51,
   "metadata": {},
   "outputs": [
    {
     "data": {
      "text/plain": [
       "(-0.5, 5.5)"
      ]
     },
     "execution_count": 51,
     "metadata": {},
     "output_type": "execute_result"
    },
    {
     "data": {
      "image/png": "[encoded data removed]",
      "text/plain": [
       "<Figure size 1080x720 with 1 Axes>"
      ]
     },
     "metadata": {
      "needs_background": "light"
     },
     "output_type": "display_data"
    }
   ],
   "source": [
    "model = neighbors.KNeighborsRegressor(n_neighbors = 7)\n",
    "model.fit(x_train, y_train)  #fit the model\n",
    "y_predict_KNN = model.predict(x_test) #make prediction on test set\n",
    "plt.figure(figsize=(15,10))\n",
    "plt.scatter(y_test,y_predict_KNN)\n",
    "plt.xlim([-0.5,5.5])\n",
    "plt.xlabel('Y Actual')\n",
    "plt.ylabel('Y Predicted')\n",
    "plt.ylim([-0.5,5.5])"
   ]
  },
  {
   "cell_type": "markdown",
   "metadata": {},
   "source": [
    "**As I expected the traditional machine learning models struggle to predict the rating of the ramen. We could try deep learning here to confirm this, but i'm not too hopeful**"
   ]
  },
  {
   "cell_type": "code",
   "execution_count": 52,
   "metadata": {},
   "outputs": [
    {
     "name": "stderr",
     "output_type": "stream",
     "text": [
      "Using TensorFlow backend.\n",
      "/Users/louismclaxton/anaconda3/lib/python3.6/site-packages/tensorflow/python/framework/dtypes.py:526: FutureWarning: Passing (type, 1) or '1type' as a synonym of type is deprecated; in a future version of numpy, it will be understood as (type, (1,)) / '(1,)type'.\n",
      "  _np_qint8 = np.dtype([(\"qint8\", np.int8, 1)])\n",
      "/Users/louismclaxton/anaconda3/lib/python3.6/site-packages/tensorflow/python/framework/dtypes.py:527: FutureWarning: Passing (type, 1) or '1type' as a synonym of type is deprecated; in a future version of numpy, it will be understood as (type, (1,)) / '(1,)type'.\n",
      "  _np_quint8 = np.dtype([(\"quint8\", np.uint8, 1)])\n",
      "/Users/louismclaxton/anaconda3/lib/python3.6/site-packages/tensorflow/python/framework/dtypes.py:528: FutureWarning: Passing (type, 1) or '1type' as a synonym of type is deprecated; in a future version of numpy, it will be understood as (type, (1,)) / '(1,)type'.\n",
      "  _np_qint16 = np.dtype([(\"qint16\", np.int16, 1)])\n",
      "/Users/louismclaxton/anaconda3/lib/python3.6/site-packages/tensorflow/python/framework/dtypes.py:529: FutureWarning: Passing (type, 1) or '1type' as a synonym of type is deprecated; in a future version of numpy, it will be understood as (type, (1,)) / '(1,)type'.\n",
      "  _np_quint16 = np.dtype([(\"quint16\", np.uint16, 1)])\n",
      "/Users/louismclaxton/anaconda3/lib/python3.6/site-packages/tensorflow/python/framework/dtypes.py:530: FutureWarning: Passing (type, 1) or '1type' as a synonym of type is deprecated; in a future version of numpy, it will be understood as (type, (1,)) / '(1,)type'.\n",
      "  _np_qint32 = np.dtype([(\"qint32\", np.int32, 1)])\n",
      "/Users/louismclaxton/anaconda3/lib/python3.6/site-packages/tensorflow/python/framework/dtypes.py:535: FutureWarning: Passing (type, 1) or '1type' as a synonym of type is deprecated; in a future version of numpy, it will be understood as (type, (1,)) / '(1,)type'.\n",
      "  np_resource = np.dtype([(\"resource\", np.ubyte, 1)])\n"
     ]
    }
   ],
   "source": [
    "import keras\n",
    "from keras.models import Sequential\n",
    "from keras.layers import Dense\n",
    "from keras.layers import Dropout"
   ]
  },
  {
   "cell_type": "code",
   "execution_count": 53,
   "metadata": {},
   "outputs": [
    {
     "name": "stdout",
     "output_type": "stream",
     "text": [
      "WARNING:tensorflow:From /Users/louismclaxton/anaconda3/lib/python3.6/site-packages/tensorflow/python/ops/resource_variable_ops.py:435: colocate_with (from tensorflow.python.framework.ops) is deprecated and will be removed in a future version.\n",
      "Instructions for updating:\n",
      "Colocations handled automatically by placer.\n"
     ]
    }
   ],
   "source": [
    "model = Sequential()\n",
    "model.add(Dense(210, input_dim=410, activation= \"relu\"))\n",
    "model.add(Dropout(0.5))\n",
    "model.add(Dense(100, activation= \"relu\"))\n",
    "model.add(Dropout(0.5))\n",
    "model.add(Dense(10, activation= \"relu\"))\n",
    "model.add(Dense(5, activation= \"relu\"))\n",
    "model.add(Dense(1))"
   ]
  },
  {
   "cell_type": "code",
   "execution_count": 54,
   "metadata": {},
   "outputs": [
    {
     "name": "stdout",
     "output_type": "stream",
     "text": [
      "WARNING:tensorflow:From /Users/louismclaxton/anaconda3/lib/python3.6/site-packages/tensorflow/python/ops/math_ops.py:3066: to_int32 (from tensorflow.python.ops.math_ops) is deprecated and will be removed in a future version.\n",
      "Instructions for updating:\n",
      "Use tf.cast instead.\n",
      "Epoch 1/100\n",
      "2061/2061 [==============================] - 0s 166us/step - loss: 6.4884 - mean_squared_error: 6.4884\n",
      "Epoch 2/100\n",
      "2061/2061 [==============================] - 0s 85us/step - loss: 1.3745 - mean_squared_error: 1.3745\n",
      "Epoch 3/100\n",
      "2061/2061 [==============================] - 0s 87us/step - loss: 1.1956 - mean_squared_error: 1.1956\n",
      "Epoch 4/100\n",
      "2061/2061 [==============================] - 0s 86us/step - loss: 1.0864 - mean_squared_error: 1.0864\n",
      "Epoch 5/100\n",
      "2061/2061 [==============================] - 0s 85us/step - loss: 1.0519 - mean_squared_error: 1.0519\n",
      "Epoch 6/100\n",
      "2061/2061 [==============================] - 0s 84us/step - loss: 1.0011 - mean_squared_error: 1.0011\n",
      "Epoch 7/100\n",
      "2061/2061 [==============================] - 0s 84us/step - loss: 0.9446 - mean_squared_error: 0.9446\n",
      "Epoch 8/100\n",
      "2061/2061 [==============================] - 0s 86us/step - loss: 0.9729 - mean_squared_error: 0.9729\n",
      "Epoch 9/100\n",
      "2061/2061 [==============================] - 0s 85us/step - loss: 0.8791 - mean_squared_error: 0.8791\n",
      "Epoch 10/100\n",
      "2061/2061 [==============================] - 0s 85us/step - loss: 0.8814 - mean_squared_error: 0.8814\n",
      "Epoch 11/100\n",
      "2061/2061 [==============================] - 0s 85us/step - loss: 0.8443 - mean_squared_error: 0.8443\n",
      "Epoch 12/100\n",
      "2061/2061 [==============================] - 0s 85us/step - loss: 0.8206 - mean_squared_error: 0.8206\n",
      "Epoch 13/100\n",
      "2061/2061 [==============================] - 0s 82us/step - loss: 0.8233 - mean_squared_error: 0.8233\n",
      "Epoch 14/100\n",
      "2061/2061 [==============================] - 0s 84us/step - loss: 0.7742 - mean_squared_error: 0.7742\n",
      "Epoch 15/100\n",
      "2061/2061 [==============================] - 0s 84us/step - loss: 0.7482 - mean_squared_error: 0.7482\n",
      "Epoch 16/100\n",
      "2061/2061 [==============================] - 0s 87us/step - loss: 0.7594 - mean_squared_error: 0.7594\n",
      "Epoch 17/100\n",
      "2061/2061 [==============================] - 0s 90us/step - loss: 0.7457 - mean_squared_error: 0.7457\n",
      "Epoch 18/100\n",
      "2061/2061 [==============================] - 0s 85us/step - loss: 0.7320 - mean_squared_error: 0.7320\n",
      "Epoch 19/100\n",
      "2061/2061 [==============================] - 0s 83us/step - loss: 0.7135 - mean_squared_error: 0.7135\n",
      "Epoch 20/100\n",
      "2061/2061 [==============================] - 0s 86us/step - loss: 0.7120 - mean_squared_error: 0.7120\n",
      "Epoch 21/100\n",
      "2061/2061 [==============================] - 0s 86us/step - loss: 0.6785 - mean_squared_error: 0.6785\n",
      "Epoch 22/100\n",
      "2061/2061 [==============================] - 0s 85us/step - loss: 0.6789 - mean_squared_error: 0.6789\n",
      "Epoch 23/100\n",
      "2061/2061 [==============================] - 0s 85us/step - loss: 0.6903 - mean_squared_error: 0.6903\n",
      "Epoch 24/100\n",
      "2061/2061 [==============================] - 0s 90us/step - loss: 0.6534 - mean_squared_error: 0.6534\n",
      "Epoch 25/100\n",
      "2061/2061 [==============================] - 0s 84us/step - loss: 0.6540 - mean_squared_error: 0.6540\n",
      "Epoch 26/100\n",
      "2061/2061 [==============================] - 0s 82us/step - loss: 0.6549 - mean_squared_error: 0.6549\n",
      "Epoch 27/100\n",
      "2061/2061 [==============================] - 0s 82us/step - loss: 0.6301 - mean_squared_error: 0.6301\n",
      "Epoch 28/100\n",
      "2061/2061 [==============================] - 0s 89us/step - loss: 0.6253 - mean_squared_error: 0.6253\n",
      "Epoch 29/100\n",
      "2061/2061 [==============================] - 0s 87us/step - loss: 0.6102 - mean_squared_error: 0.6102\n",
      "Epoch 30/100\n",
      "2061/2061 [==============================] - 0s 87us/step - loss: 0.6125 - mean_squared_error: 0.6125\n",
      "Epoch 31/100\n",
      "2061/2061 [==============================] - 0s 84us/step - loss: 0.5872 - mean_squared_error: 0.5872\n",
      "Epoch 32/100\n",
      "2061/2061 [==============================] - 0s 85us/step - loss: 0.5866 - mean_squared_error: 0.5866\n",
      "Epoch 33/100\n",
      "2061/2061 [==============================] - 0s 87us/step - loss: 0.5574 - mean_squared_error: 0.5574\n",
      "Epoch 34/100\n",
      "2061/2061 [==============================] - 0s 82us/step - loss: 0.5568 - mean_squared_error: 0.5568\n",
      "Epoch 35/100\n",
      "2061/2061 [==============================] - 0s 88us/step - loss: 0.5389 - mean_squared_error: 0.5389\n",
      "Epoch 36/100\n",
      "2061/2061 [==============================] - 0s 85us/step - loss: 0.5509 - mean_squared_error: 0.5509\n",
      "Epoch 37/100\n",
      "2061/2061 [==============================] - 0s 86us/step - loss: 0.5477 - mean_squared_error: 0.5477\n",
      "Epoch 38/100\n",
      "2061/2061 [==============================] - 0s 87us/step - loss: 0.5186 - mean_squared_error: 0.5186\n",
      "Epoch 39/100\n",
      "2061/2061 [==============================] - 0s 85us/step - loss: 0.5115 - mean_squared_error: 0.5115\n",
      "Epoch 40/100\n",
      "2061/2061 [==============================] - 0s 81us/step - loss: 0.5008 - mean_squared_error: 0.5008\n",
      "Epoch 41/100\n",
      "2061/2061 [==============================] - 0s 82us/step - loss: 0.5105 - mean_squared_error: 0.5105\n",
      "Epoch 42/100\n",
      "2061/2061 [==============================] - 0s 84us/step - loss: 0.5103 - mean_squared_error: 0.5103\n",
      "Epoch 43/100\n",
      "2061/2061 [==============================] - 0s 82us/step - loss: 0.5028 - mean_squared_error: 0.5028\n",
      "Epoch 44/100\n",
      "2061/2061 [==============================] - 0s 85us/step - loss: 0.4853 - mean_squared_error: 0.4853\n",
      "Epoch 45/100\n",
      "2061/2061 [==============================] - 0s 82us/step - loss: 0.4774 - mean_squared_error: 0.4774\n",
      "Epoch 46/100\n",
      "2061/2061 [==============================] - 0s 86us/step - loss: 0.4698 - mean_squared_error: 0.4698\n",
      "Epoch 47/100\n",
      "2061/2061 [==============================] - 0s 84us/step - loss: 0.4826 - mean_squared_error: 0.4826\n",
      "Epoch 48/100\n",
      "2061/2061 [==============================] - 0s 86us/step - loss: 0.4593 - mean_squared_error: 0.4593\n",
      "Epoch 49/100\n",
      "2061/2061 [==============================] - 0s 89us/step - loss: 0.4643 - mean_squared_error: 0.4643\n",
      "Epoch 50/100\n",
      "2061/2061 [==============================] - 0s 87us/step - loss: 0.4878 - mean_squared_error: 0.4878\n",
      "Epoch 51/100\n",
      "2061/2061 [==============================] - 0s 85us/step - loss: 0.4642 - mean_squared_error: 0.4642\n",
      "Epoch 52/100\n",
      "2061/2061 [==============================] - 0s 91us/step - loss: 0.4569 - mean_squared_error: 0.4569\n",
      "Epoch 53/100\n",
      "2061/2061 [==============================] - 0s 80us/step - loss: 0.4437 - mean_squared_error: 0.4437\n",
      "Epoch 54/100\n",
      "2061/2061 [==============================] - 0s 80us/step - loss: 0.4510 - mean_squared_error: 0.4510\n",
      "Epoch 55/100\n",
      "2061/2061 [==============================] - 0s 83us/step - loss: 0.4429 - mean_squared_error: 0.4429\n",
      "Epoch 56/100\n",
      "2061/2061 [==============================] - 0s 82us/step - loss: 0.4526 - mean_squared_error: 0.4526\n",
      "Epoch 57/100\n",
      "2061/2061 [==============================] - 0s 78us/step - loss: 0.4335 - mean_squared_error: 0.4335\n",
      "Epoch 58/100\n",
      "2061/2061 [==============================] - 0s 83us/step - loss: 0.4401 - mean_squared_error: 0.4401\n",
      "Epoch 59/100\n",
      "2061/2061 [==============================] - 0s 83us/step - loss: 0.4397 - mean_squared_error: 0.4397\n",
      "Epoch 60/100\n",
      "2061/2061 [==============================] - 0s 83us/step - loss: 0.4287 - mean_squared_error: 0.4287\n",
      "Epoch 61/100\n",
      "2061/2061 [==============================] - 0s 86us/step - loss: 0.4291 - mean_squared_error: 0.4291\n",
      "Epoch 62/100\n",
      "2061/2061 [==============================] - 0s 82us/step - loss: 0.4307 - mean_squared_error: 0.4307\n",
      "Epoch 63/100\n",
      "2061/2061 [==============================] - 0s 82us/step - loss: 0.4238 - mean_squared_error: 0.4238\n",
      "Epoch 64/100\n",
      "2061/2061 [==============================] - 0s 81us/step - loss: 0.4437 - mean_squared_error: 0.4437\n",
      "Epoch 65/100\n",
      "2061/2061 [==============================] - 0s 80us/step - loss: 0.4213 - mean_squared_error: 0.4213\n",
      "Epoch 66/100\n",
      "2061/2061 [==============================] - 0s 79us/step - loss: 0.4235 - mean_squared_error: 0.4235\n",
      "Epoch 67/100\n",
      "2061/2061 [==============================] - 0s 82us/step - loss: 0.4105 - mean_squared_error: 0.4105\n",
      "Epoch 68/100\n",
      "2061/2061 [==============================] - 0s 80us/step - loss: 0.4132 - mean_squared_error: 0.4132\n",
      "Epoch 69/100\n"
     ]
    },
    {
     "name": "stdout",
     "output_type": "stream",
     "text": [
      "2061/2061 [==============================] - 0s 79us/step - loss: 0.4095 - mean_squared_error: 0.4095\n",
      "Epoch 70/100\n",
      "2061/2061 [==============================] - 0s 76us/step - loss: 0.4060 - mean_squared_error: 0.4060\n",
      "Epoch 71/100\n",
      "2061/2061 [==============================] - 0s 75us/step - loss: 0.4227 - mean_squared_error: 0.4227\n",
      "Epoch 72/100\n",
      "2061/2061 [==============================] - 0s 74us/step - loss: 0.4126 - mean_squared_error: 0.4126\n",
      "Epoch 73/100\n",
      "2061/2061 [==============================] - 0s 78us/step - loss: 0.4163 - mean_squared_error: 0.4163\n",
      "Epoch 74/100\n",
      "2061/2061 [==============================] - 0s 77us/step - loss: 0.4326 - mean_squared_error: 0.4326\n",
      "Epoch 75/100\n",
      "2061/2061 [==============================] - 0s 75us/step - loss: 0.4102 - mean_squared_error: 0.4102\n",
      "Epoch 76/100\n",
      "2061/2061 [==============================] - 0s 77us/step - loss: 0.4139 - mean_squared_error: 0.4139\n",
      "Epoch 77/100\n",
      "2061/2061 [==============================] - 0s 77us/step - loss: 0.4268 - mean_squared_error: 0.4268\n",
      "Epoch 78/100\n",
      "2061/2061 [==============================] - 0s 76us/step - loss: 0.3935 - mean_squared_error: 0.3935\n",
      "Epoch 79/100\n",
      "2061/2061 [==============================] - 0s 74us/step - loss: 0.4176 - mean_squared_error: 0.4176\n",
      "Epoch 80/100\n",
      "2061/2061 [==============================] - 0s 77us/step - loss: 0.4061 - mean_squared_error: 0.4061\n",
      "Epoch 81/100\n",
      "2061/2061 [==============================] - 0s 77us/step - loss: 0.4069 - mean_squared_error: 0.4069\n",
      "Epoch 82/100\n",
      "2061/2061 [==============================] - 0s 77us/step - loss: 0.4100 - mean_squared_error: 0.4100\n",
      "Epoch 83/100\n",
      "2061/2061 [==============================] - 0s 78us/step - loss: 0.4054 - mean_squared_error: 0.4054\n",
      "Epoch 84/100\n",
      "2061/2061 [==============================] - 0s 77us/step - loss: 0.3987 - mean_squared_error: 0.3987\n",
      "Epoch 85/100\n",
      "2061/2061 [==============================] - 0s 78us/step - loss: 0.3998 - mean_squared_error: 0.3998\n",
      "Epoch 86/100\n",
      "2061/2061 [==============================] - 0s 76us/step - loss: 0.4044 - mean_squared_error: 0.4044\n",
      "Epoch 87/100\n",
      "2061/2061 [==============================] - 0s 75us/step - loss: 0.3879 - mean_squared_error: 0.3879\n",
      "Epoch 88/100\n",
      "2061/2061 [==============================] - 0s 73us/step - loss: 0.4033 - mean_squared_error: 0.4033\n",
      "Epoch 89/100\n",
      "2061/2061 [==============================] - 0s 74us/step - loss: 0.4067 - mean_squared_error: 0.4067\n",
      "Epoch 90/100\n",
      "2061/2061 [==============================] - 0s 76us/step - loss: 0.3818 - mean_squared_error: 0.3818\n",
      "Epoch 91/100\n",
      "2061/2061 [==============================] - 0s 75us/step - loss: 0.3928 - mean_squared_error: 0.3928\n",
      "Epoch 92/100\n",
      "2061/2061 [==============================] - 0s 79us/step - loss: 0.3831 - mean_squared_error: 0.3831\n",
      "Epoch 93/100\n",
      "2061/2061 [==============================] - 0s 82us/step - loss: 0.3994 - mean_squared_error: 0.3994\n",
      "Epoch 94/100\n",
      "2061/2061 [==============================] - 0s 78us/step - loss: 0.3939 - mean_squared_error: 0.3939\n",
      "Epoch 95/100\n",
      "2061/2061 [==============================] - 0s 78us/step - loss: 0.3895 - mean_squared_error: 0.3895\n",
      "Epoch 96/100\n",
      "2061/2061 [==============================] - 0s 75us/step - loss: 0.3991 - mean_squared_error: 0.3991\n",
      "Epoch 97/100\n",
      "2061/2061 [==============================] - 0s 75us/step - loss: 0.3874 - mean_squared_error: 0.3874\n",
      "Epoch 98/100\n",
      "2061/2061 [==============================] - 0s 77us/step - loss: 0.3933 - mean_squared_error: 0.3933\n",
      "Epoch 99/100\n",
      "2061/2061 [==============================] - 0s 74us/step - loss: 0.3898 - mean_squared_error: 0.3898\n",
      "Epoch 100/100\n",
      "2061/2061 [==============================] - 0s 78us/step - loss: 0.3932 - mean_squared_error: 0.3932\n"
     ]
    }
   ],
   "source": [
    "model.compile(loss= \"mean_squared_error\" , optimizer=\"adam\", metrics=[\"mean_squared_error\"])\n",
    "history = model.fit(x_train, y_train, epochs=100)"
   ]
  },
  {
   "cell_type": "code",
   "execution_count": 55,
   "metadata": {},
   "outputs": [
    {
     "name": "stdout",
     "output_type": "stream",
     "text": [
      "0.5822146017139435\n",
      "0.9802478866753018\n"
     ]
    }
   ],
   "source": [
    "pred_train= model.predict(x_train)\n",
    "print(np.sqrt(mean_squared_error(y_train,pred_train)))\n",
    "y_pred_NN = model.predict(x_test)\n",
    "print(np.sqrt(mean_squared_error(y_test,pred)))"
   ]
  },
  {
   "cell_type": "markdown",
   "metadata": {},
   "source": [
    "Seems the model may be slightly over fitting the data given the MSE is higher for the test set. This could also be a result of having such a small dataset for trying to use a ANN."
   ]
  },
  {
   "cell_type": "code",
   "execution_count": 56,
   "metadata": {},
   "outputs": [
    {
     "data": {
      "text/plain": [
       "Text(0, 0.5, 'MSE')"
      ]
     },
     "execution_count": 56,
     "metadata": {},
     "output_type": "execute_result"
    },
    {
     "data": {
      "image/png": "[encoded data removed]",
      "text/plain": [
       "<Figure size 1080x360 with 1 Axes>"
      ]
     },
     "metadata": {
      "needs_background": "light"
     },
     "output_type": "display_data"
    }
   ],
   "source": [
    "plt.figure(figsize=(15,5))\n",
    "plt.plot(np.arange(0,100),history.history.get('loss'))\n",
    "plt.xlabel('Epoch')\n",
    "plt.ylabel('MSE')"
   ]
  },
  {
   "cell_type": "code",
   "execution_count": 57,
   "metadata": {
    "scrolled": false
   },
   "outputs": [
    {
     "data": {
      "text/plain": [
       "(-0.5, 5.5)"
      ]
     },
     "execution_count": 57,
     "metadata": {},
     "output_type": "execute_result"
    },
    {
     "data": {
      "image/png": "[encoded data removed]",
      "text/plain": [
       "<Figure size 1080x720 with 1 Axes>"
      ]
     },
     "metadata": {
      "needs_background": "light"
     },
     "output_type": "display_data"
    }
   ],
   "source": [
    "plt.figure(figsize=(15,10))\n",
    "plt.scatter(y_test,y_pred_NN)\n",
    "plt.xlim([-0.5,5.5])\n",
    "plt.xlabel('Y Actual')\n",
    "plt.ylabel('Y Predicted')\n",
    "plt.ylim([-0.5,5.5])"
   ]
  },
  {
   "cell_type": "markdown",
   "metadata": {},
   "source": [
    "Overall given the lack of correlation between the predictors and the rating it has proved hard to generate an accurate machine learning model. Moreover, given the size of the dataset its hard to use complex methods such as ANNs to predict well the rating. Since the overall size of the dataset is small, there is likely to be a considerable about of noise in the data. That and the number of features is large in comparison to the entries.\n",
    "\n",
    "Nonetheless, its been fun to use some NLP, ML and generally explore the Ramen Data set.\n",
    "\n"
   ]
  },
  {
   "cell_type": "code",
   "execution_count": null,
   "metadata": {},
   "outputs": [],
   "source": []
  },
  {
   "cell_type": "code",
   "execution_count": null,
   "metadata": {},
   "outputs": [],
   "source": []
  },
  {
   "cell_type": "code",
   "execution_count": null,
   "metadata": {},
   "outputs": [],
   "source": []
  }
 ],
 "metadata": {
  "kernelspec": {
   "display_name": "Python 3",
   "language": "python",
   "name": "python3"
  },
  "language_info": {
   "codemirror_mode": {
    "name": "ipython",
    "version": 3
   },
   "file_extension": ".py",
   "mimetype": "text/x-python",
   "name": "python",
   "nbconvert_exporter": "python",
   "pygments_lexer": "ipython3",
   "version": "3.6.6"
  }
 },
 "nbformat": 4,
 "nbformat_minor": 4
}
